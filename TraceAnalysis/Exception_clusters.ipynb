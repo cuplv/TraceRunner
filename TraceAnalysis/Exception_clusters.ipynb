{
 "cells": [
  {
   "cell_type": "code",
   "execution_count": 1,
   "metadata": {},
   "outputs": [
    {
     "data": {
      "text/plain": [
       "\u001b[32mimport \u001b[39m\u001b[36m$ivy.$                                \n",
       "\u001b[39m\n",
       "\u001b[32mimport \u001b[39m\u001b[36medu.colorado.plv.libtrace.LoadTrace\n",
       "// interp.load.ivy(\"edu.colorado.plv\" %% \"libtrace\" % \"1.0\")\n",
       "\u001b[39m\n",
       "\u001b[32mimport \u001b[39m\u001b[36mjava.io.File\u001b[39m"
      ]
     },
     "execution_count": 1,
     "metadata": {},
     "output_type": "execute_result"
    }
   ],
   "source": [
    "import $ivy.`edu.colorado.plv::libtrace:1.0` \n",
    "import edu.colorado.plv.libtrace.LoadTrace\n",
    "// interp.load.ivy(\"edu.colorado.plv\" %% \"libtrace\" % \"1.0\")\n",
    "import java.io.File"
   ]
  },
  {
   "cell_type": "code",
   "execution_count": 2,
   "metadata": {},
   "outputs": [
    {
     "data": {
      "text/plain": [
       "\u001b[36msomeTrace\u001b[39m: \u001b[32mString\u001b[39m = \u001b[32m\"/Users/s/Documents/data/monkey_traces/output-synt/yxl-DownloadProvider-bin/monkeyTraces/trace_2017-04-13_02:14:19.repaired\"\u001b[39m"
      ]
     },
     "execution_count": 2,
     "metadata": {},
     "output_type": "execute_result"
    }
   ],
   "source": [
    "val someTrace = \"/Users/s/Documents/data/monkey_traces/output-synt/yxl-DownloadProvider-bin/monkeyTraces/trace_2017-04-13_02:14:19.repaired\""
   ]
  },
  {
   "cell_type": "code",
   "execution_count": 3,
   "metadata": {},
   "outputs": [
    {
     "data": {
      "text/plain": [
       "\u001b[36mtrace\u001b[39m: \u001b[32mSeq\u001b[39m[\u001b[32medu\u001b[39m.\u001b[32mcolorado\u001b[39m.\u001b[32mplv\u001b[39m.\u001b[32mtracerunner_runtime_instrumentation\u001b[39m.\u001b[32mtracemsg\u001b[39m.\u001b[32mTraceMsgContainer\u001b[39m.\u001b[32mTraceMsg\u001b[39m] = \u001b[33mList\u001b[39m(\n",
       "  type: CALLBACK_ENTRY\n",
       "message_id: 0\n",
       "thread_id: 1\n",
       "callbackEntry {\n",
       "  class_name: \"com.mozillaonline.providers.downloads.DownloadProvider\"\n",
       "  method_name: \"<clinit>\"\n",
       "  param_list {\n",
       "    is_null: true\n",
       "  }\n",
       "  callback_caller_class: \"java.lang.Class\"\n",
       "  callback_caller_method: \"newInstance\"\n",
       "\u001b[33m...\u001b[39m"
      ]
     },
     "execution_count": 3,
     "metadata": {},
     "output_type": "execute_result"
    }
   ],
   "source": [
    "val trace = LoadTrace.loadTrace(new File(someTrace))"
   ]
  },
  {
   "cell_type": "code",
   "execution_count": 1,
   "metadata": {},
   "outputs": [
    {
     "data": {
      "text/plain": [
       "\u001b[32mimport \u001b[39m\u001b[36mscala.collection.mutable.ArrayBuffer\n",
       "\u001b[39m\n",
       "\u001b[36ma\u001b[39m: \u001b[32mcollection\u001b[39m.\u001b[32mmutable\u001b[39m.\u001b[32mArrayBuffer\u001b[39m[\u001b[32mNothing\u001b[39m] = ArrayBuffer()"
      ]
     },
     "execution_count": 1,
     "metadata": {},
     "output_type": "execute_result"
    }
   ],
   "source": [
    "import scala.collection.mutable.ArrayBuffer\n",
    "val a = new ArrayBuffer()\n"
   ]
  },
  {
   "cell_type": "code",
   "execution_count": null,
   "metadata": {
    "collapsed": true
   },
   "outputs": [],
   "source": []
  }
 ],
 "metadata": {
  "kernelspec": {
   "display_name": "Scala",
   "language": "scala",
   "name": "scala"
  },
  "language_info": {
   "codemirror_mode": "text/x-scala",
   "file_extension": ".scala",
   "mimetype": "text/x-scala",
   "name": "scala211",
   "nbconvert_exporter": "script",
   "pygments_lexer": "scala",
   "version": "2.11.11"
  }
 },
 "nbformat": 4,
 "nbformat_minor": 2
}
