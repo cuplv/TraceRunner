{
 "cells": [
  {
   "cell_type": "code",
   "execution_count": 1,
   "metadata": {},
   "outputs": [
    {
     "name": "stdout",
     "output_type": "stream",
     "text": [
      "Downloading https://repo1.maven.org/maven2/org/vegas-viz/vegas_2.11/0.3.9/vegas_2.11-0.3.9.pom.sha1\n",
      "Downloading https://repo1.maven.org/maven2/org/vegas-viz/vegas_2.11/0.3.9/vegas_2.11-0.3.9.pom\n",
      "Downloaded https://repo1.maven.org/maven2/org/vegas-viz/vegas_2.11/0.3.9/vegas_2.11-0.3.9.pom.sha1\n",
      "https://repo1.maven.org/maven2/org/vegas-viz/vegas_2.11/0.3.9/… (0.00 %, 0 / 44…\n",
      "\n",
      "Downloaded https://repo1.maven.org/maven2/org/vegas-viz/vegas_2.11/0.3.9/vegas_2.11-0.3.9.pom\n",
      "Downloading https://repo1.maven.org/maven2/org/vegas-viz/vegas_2.11/0.3.9/\n",
      "Downloaded https://repo1.maven.org/maven2/org/vegas-viz/vegas_2.11/0.3.9/\n",
      "Downloading https://repo1.maven.org/maven2/io/circe/circe-parser_2.11/0.7.0/circe-parser_2.11-0.7.0.pom\n",
      "Downloading https://repo1.maven.org/maven2/io/circe/circe-generic_2.11/0.7.0/circe-generic_2.11-0.7.0.pom.sha1\n",
      "Downloading https://repo1.maven.org/maven2/io/circe/circe-generic_2.11/0.7.0/circe-generic_2.11-0.7.0.pom\n",
      "Downloading https://repo1.maven.org/maven2/io/circe/circe-parser_2.11/0.7.0/circe-parser_2.11-0.7.0.pom.sha1\n",
      "Downloading https://repo1.maven.org/maven2/io/circe/circe-core_2.11/0.7.0/circe-core_2.11-0.7.0.pom.sha1\n",
      "Downloading https://repo1.maven.org/maven2/io/circe/circe-core_2.11/0.7.0/circe-core_2.11-0.7.0.pom\n",
      "Downloaded https://repo1.maven.org/maven2/io/circe/circe-parser_2.11/0.7.0/circe-parser_2.11-0.7.0.pom\n",
      "Downloading https://repo1.maven.org/maven2/org/vegas-viz/vegas-macros_2.11/0.3.9/vegas-macros_2.11-0.3.9.pom\n",
      "Downloaded https://repo1.maven.org/maven2/org/vegas-viz/vegas-macros_2.11/0.3.9/vegas-macros_2.11-0.3.9.pom\n",
      "Downloading https://repo1.maven.org/maven2/org/vegas-viz/vegas-macros_2.11/0.3.9/vegas-macros_2.11-0.3.9.pom.sha1\n",
      "Downloaded https://repo1.maven.org/maven2/io/circe/circe-generic_2.11/0.7.0/circe-generic_2.11-0.7.0.pom\n",
      "Downloaded https://repo1.maven.org/maven2/org/vegas-viz/vegas-macros_2.11/0.3.9/vegas-macros_2.11-0.3.9.pom.sha1\n",
      "Downloading https://repo1.maven.org/maven2/org/vegas-viz/vegas-macros_2.11/0.3.9/\n",
      "Downloaded https://repo1.maven.org/maven2/io/circe/circe-core_2.11/0.7.0/circe-core_2.11-0.7.0.pom.sha1\n",
      "Downloaded https://repo1.maven.org/maven2/io/circe/circe-generic_2.11/0.7.0/circe-generic_2.11-0.7.0.pom.sha1\n",
      "Downloaded https://repo1.maven.org/maven2/io/circe/circe-core_2.11/0.7.0/circe-core_2.11-0.7.0.pom\n",
      "Downloaded https://repo1.maven.org/maven2/io/circe/circe-parser_2.11/0.7.0/circe-parser_2.11-0.7.0.pom.sha1\n",
      "Downloading https://repo1.maven.org/maven2/io/circe/circe-generic_2.11/0.7.0/\n",
      "Downloading https://repo1.maven.org/maven2/io/circe/circe-core_2.11/0.7.0/\n",
      "Downloading https://repo1.maven.org/maven2/io/circe/circe-parser_2.11/0.7.0/\n",
      "Downloaded https://repo1.maven.org/maven2/io/circe/circe-generic_2.11/0.7.0/\n",
      "Downloaded https://repo1.maven.org/maven2/io/circe/circe-core_2.11/0.7.0/\n",
      "Downloaded https://repo1.maven.org/maven2/io/circe/circe-parser_2.11/0.7.0/\n",
      "Downloaded https://repo1.maven.org/maven2/org/vegas-viz/vegas-macros_2.11/0.3.9/\n",
      "Downloading https://repo1.maven.org/maven2/io/circe/circe-numbers_2.11/0.7.0/circe-numbers_2.11-0.7.0.pom\n",
      "Downloading https://repo1.maven.org/maven2/org/typelevel/cats-core_2.11/0.9.0/cats-core_2.11-0.9.0.pom.sha1\n",
      "Downloading https://repo1.maven.org/maven2/io/circe/circe-numbers_2.11/0.7.0/circe-numbers_2.11-0.7.0.pom.sha1\n",
      "Downloading https://repo1.maven.org/maven2/org/typelevel/cats-core_2.11/0.9.0/cats-core_2.11-0.9.0.pom\n",
      "Downloading https://repo1.maven.org/maven2/io/circe/circe-jawn_2.11/0.7.0/circe-jawn_2.11-0.7.0.pom.sha1\n",
      "Downloading https://repo1.maven.org/maven2/io/circe/circe-jawn_2.11/0.7.0/circe-jawn_2.11-0.7.0.pom\n",
      "Downloaded https://repo1.maven.org/maven2/io/circe/circe-numbers_2.11/0.7.0/circe-numbers_2.11-0.7.0.pom\n",
      "Downloaded https://repo1.maven.org/maven2/org/typelevel/cats-core_2.11/0.9.0/cats-core_2.11-0.9.0.pom.sha1\n",
      "Downloaded https://repo1.maven.org/maven2/org/typelevel/cats-core_2.11/0.9.0/cats-core_2.11-0.9.0.pom\n",
      "Downloaded https://repo1.maven.org/maven2/io/circe/circe-numbers_2.11/0.7.0/circe-numbers_2.11-0.7.0.pom.sha1\n",
      "Downloading https://repo1.maven.org/maven2/io/circe/circe-numbers_2.11/0.7.0/\n",
      "Downloaded https://repo1.maven.org/maven2/io/circe/circe-jawn_2.11/0.7.0/circe-jawn_2.11-0.7.0.pom.sha1\n",
      "Downloading https://repo1.maven.org/maven2/org/typelevel/cats-core_2.11/0.9.0/\n",
      "Downloaded https://repo1.maven.org/maven2/io/circe/circe-numbers_2.11/0.7.0/\n",
      "Downloaded https://repo1.maven.org/maven2/org/typelevel/cats-core_2.11/0.9.0/\n",
      "Downloaded https://repo1.maven.org/maven2/io/circe/circe-jawn_2.11/0.7.0/circe-jawn_2.11-0.7.0.pom\n",
      "Downloading https://repo1.maven.org/maven2/io/circe/circe-jawn_2.11/0.7.0/\n",
      "Downloaded https://repo1.maven.org/maven2/io/circe/circe-jawn_2.11/0.7.0/\n",
      "Downloading https://repo1.maven.org/maven2/org/typelevel/cats-kernel_2.11/0.9.0/cats-kernel_2.11-0.9.0.pom\n",
      "Downloading https://repo1.maven.org/maven2/org/typelevel/cats-macros_2.11/0.9.0/cats-macros_2.11-0.9.0.pom.sha1\n",
      "Downloading https://repo1.maven.org/maven2/org/typelevel/cats-kernel_2.11/0.9.0/cats-kernel_2.11-0.9.0.pom.sha1\n",
      "Downloading https://repo1.maven.org/maven2/org/typelevel/cats-macros_2.11/0.9.0/cats-macros_2.11-0.9.0.pom\n",
      "Downloaded https://repo1.maven.org/maven2/org/typelevel/cats-macros_2.11/0.9.0/cats-macros_2.11-0.9.0.pom.sha1\n",
      "Downloaded https://repo1.maven.org/maven2/org/typelevel/cats-kernel_2.11/0.9.0/cats-kernel_2.11-0.9.0.pom.sha1\n",
      "Downloaded https://repo1.maven.org/maven2/org/typelevel/cats-kernel_2.11/0.9.0/cats-kernel_2.11-0.9.0.pom\n",
      "Downloaded https://repo1.maven.org/maven2/org/typelevel/cats-macros_2.11/0.9.0/cats-macros_2.11-0.9.0.pom\n",
      "Downloading https://repo1.maven.org/maven2/org/typelevel/cats-kernel_2.11/0.9.0/\n",
      "Downloading https://repo1.maven.org/maven2/org/typelevel/cats-macros_2.11/0.9.0/\n",
      "Downloaded https://repo1.maven.org/maven2/org/typelevel/cats-kernel_2.11/0.9.0/\n",
      "Downloaded https://repo1.maven.org/maven2/org/typelevel/cats-macros_2.11/0.9.0/\n",
      "Downloading https://repo1.maven.org/maven2/io/circe/circe-jawn_2.11/0.7.0/circe-jawn_2.11-0.7.0.jar\n",
      "Downloading https://repo1.maven.org/maven2/io/circe/circe-jawn_2.11/0.7.0/circe-jawn_2.11-0.7.0.jar.sha1\n",
      "Downloading https://repo1.maven.org/maven2/io/circe/circe-core_2.11/0.7.0/circe-core_2.11-0.7.0.jar\n",
      "Downloading https://repo1.maven.org/maven2/io/circe/circe-core_2.11/0.7.0/circe-core_2.11-0.7.0.jar.sha1\n",
      "Downloaded https://repo1.maven.org/maven2/io/circe/circe-jawn_2.11/0.7.0/circe-jawn_2.11-0.7.0.jar.sha1\n",
      "Downloading https://repo1.maven.org/maven2/org/typelevel/cats-core_2.11/0.9.0/cats-core_2.11-0.9.0.jar\n",
      "Downloading https://repo1.maven.org/maven2/org/typelevel/cats-core_2.11/0.9.0/cats-core_2.11-0.9.0.jar.sha1\n",
      "Downloading https://repo1.maven.org/maven2/org/vegas-viz/vegas-macros_2.11/0.3.9/vegas-macros_2.11-0.3.9.jar\n",
      "Downloaded https://repo1.maven.org/maven2/io/circe/circe-jawn_2.11/0.7.0/circe-jawn_2.11-0.7.0.jar\n",
      "Downloading https://repo1.maven.org/maven2/org/vegas-viz/vegas-macros_2.11/0.3.9/vegas-macros_2.11-0.3.9.jar.sha1\n",
      "Downloaded https://repo1.maven.org/maven2/io/circe/circe-core_2.11/0.7.0/circe-core_2.11-0.7.0.jar.sha1\n",
      "Downloading https://repo1.maven.org/maven2/org/typelevel/cats-kernel_2.11/0.9.0/cats-kernel_2.11-0.9.0.jar\n",
      "Downloaded https://repo1.maven.org/maven2/org/typelevel/cats-core_2.11/0.9.0/cats-core_2.11-0.9.0.jar.sha1\n",
      "Downloading https://repo1.maven.org/maven2/org/typelevel/cats-kernel_2.11/0.9.0/cats-kernel_2.11-0.9.0.jar.sha1\n",
      "Downloaded https://repo1.maven.org/maven2/org/typelevel/cats-kernel_2.11/0.9.0/cats-kernel_2.11-0.9.0.jar.sha1\n",
      "Downloading https://repo1.maven.org/maven2/io/circe/circe-generic_2.11/0.7.0/circe-generic_2.11-0.7.0.jar\n",
      "Downloaded https://repo1.maven.org/maven2/org/vegas-viz/vegas-macros_2.11/0.3.9/vegas-macros_2.11-0.3.9.jar\n",
      "Downloading https://repo1.maven.org/maven2/io/circe/circe-parser_2.11/0.7.0/circe-parser_2.11-0.7.0.jar\n",
      "Downloaded https://repo1.maven.org/maven2/org/vegas-viz/vegas-macros_2.11/0.3.9/vegas-macros_2.11-0.3.9.jar.sha1\n",
      "Downloading https://repo1.maven.org/maven2/io/circe/circe-generic_2.11/0.7.0/circe-generic_2.11-0.7.0.jar.sha1\n",
      "Downloaded https://repo1.maven.org/maven2/io/circe/circe-generic_2.11/0.7.0/circe-generic_2.11-0.7.0.jar.sha1\n",
      "Downloaded https://repo1.maven.org/maven2/io/circe/circe-parser_2.11/0.7.0/circe-parser_2.11-0.7.0.jar\n",
      "Downloading https://repo1.maven.org/maven2/io/circe/circe-parser_2.11/0.7.0/circe-parser_2.11-0.7.0.jar.sha1\n",
      "Downloading https://repo1.maven.org/maven2/io/circe/circe-numbers_2.11/0.7.0/circe-numbers_2.11-0.7.0.jar\n"
     ]
    },
    {
     "name": "stdout",
     "output_type": "stream",
     "text": [
      "Downloaded https://repo1.maven.org/maven2/io/circe/circe-parser_2.11/0.7.0/circe-parser_2.11-0.7.0.jar.sha1\n",
      "Downloading https://repo1.maven.org/maven2/io/circe/circe-numbers_2.11/0.7.0/circe-numbers_2.11-0.7.0.jar.sha1\n",
      "Downloaded https://repo1.maven.org/maven2/io/circe/circe-numbers_2.11/0.7.0/circe-numbers_2.11-0.7.0.jar\n",
      "Downloading https://repo1.maven.org/maven2/org/vegas-viz/vegas_2.11/0.3.9/vegas_2.11-0.3.9.jar\n",
      "Downloaded https://repo1.maven.org/maven2/io/circe/circe-numbers_2.11/0.7.0/circe-numbers_2.11-0.7.0.jar.sha1\n",
      "Downloading https://repo1.maven.org/maven2/org/vegas-viz/vegas_2.11/0.3.9/vegas_2.11-0.3.9.jar.sha1\n",
      "Downloaded https://repo1.maven.org/maven2/io/circe/circe-generic_2.11/0.7.0/circe-generic_2.11-0.7.0.jar\n",
      "Downloading https://repo1.maven.org/maven2/org/typelevel/cats-macros_2.11/0.9.0/cats-macros_2.11-0.9.0.jar\n",
      "Downloaded https://repo1.maven.org/maven2/org/vegas-viz/vegas_2.11/0.3.9/vegas_2.11-0.3.9.jar.sha1\n",
      "Downloading https://repo1.maven.org/maven2/org/typelevel/cats-macros_2.11/0.9.0/cats-macros_2.11-0.9.0.jar.sha1\n",
      "Downloaded https://repo1.maven.org/maven2/org/typelevel/cats-macros_2.11/0.9.0/cats-macros_2.11-0.9.0.jar.sha1\n",
      "Downloaded https://repo1.maven.org/maven2/org/typelevel/cats-macros_2.11/0.9.0/cats-macros_2.11-0.9.0.jar\n",
      "https://repo1.maven.org/maven2/io/circe/circe-core_2.11/0.7.0/… (78.77 %, 67111…\n",
      "https://repo1.maven.org/maven2/org/vegas-viz/vegas_2.11/0.3.9/… (24.03 %, 58919…\n",
      "https://repo1.maven.org/maven2/org/typelevel/cats-core_2.11/0.… (20.68 %, 70388…\n",
      "https://repo1.maven.org/maven2/org/typelevel/cats-kernel_2.11/… (15.33 %, 70388…\n",
      "\n",
      "Downloaded https://repo1.maven.org/maven2/io/circe/circe-core_2.11/0.7.0/circe-core_2.11-0.7.0.jar\n",
      "https://repo1.maven.org/maven2/org/vegas-viz/vegas_2.11/0.3.9/… (46.08 %, 11298…\n",
      "https://repo1.maven.org/maven2/org/typelevel/cats-core_2.11/0.… (31.75 %, 10807…\n",
      "https://repo1.maven.org/maven2/org/typelevel/cats-kernel_2.11/… (23.53 %, 10807…\n",
      "\n",
      "https://repo1.maven.org/maven2/org/vegas-viz/vegas_2.11/0.3.9/… (84.16 %, 20637…\n",
      "https://repo1.maven.org/maven2/org/typelevel/cats-core_2.11/0.… (49.08 %, 16705…\n",
      "https://repo1.maven.org/maven2/org/typelevel/cats-kernel_2.11/… (37.80 %, 17360…\n",
      "\n",
      "Downloaded https://repo1.maven.org/maven2/org/vegas-viz/vegas_2.11/0.3.9/vegas_2.11-0.3.9.jar\n",
      "https://repo1.maven.org/maven2/org/typelevel/cats-core_2.11/0.… (78.70 %, 26785…\n",
      "https://repo1.maven.org/maven2/org/typelevel/cats-kernel_2.11/… (62.78 %, 28829…\n",
      "\n",
      "Downloaded https://repo1.maven.org/maven2/org/typelevel/cats-core_2.11/0.9.0/cats-core_2.11-0.9.0.jar\n",
      "https://repo1.maven.org/maven2/org/typelevel/cats-kernel_2.11/… (87.04 %, 39970…\n",
      "\n",
      "Downloaded https://repo1.maven.org/maven2/org/typelevel/cats-kernel_2.11/0.9.0/cats-kernel_2.11-0.9.0.jar\n"
     ]
    },
    {
     "data": {
      "text/plain": [
       "\u001b[32mimport \u001b[39m\u001b[36m$ivy.$                           \n",
       "\u001b[39m"
      ]
     },
     "execution_count": 1,
     "metadata": {},
     "output_type": "execute_result"
    }
   ],
   "source": [
    "import $ivy.`org.vegas-viz::vegas:0.3.9`\n"
   ]
  },
  {
   "cell_type": "code",
   "execution_count": null,
   "metadata": {
    "collapsed": true
   },
   "outputs": [],
   "source": []
  },
  {
   "cell_type": "code",
   "execution_count": 2,
   "metadata": {},
   "outputs": [
    {
     "data": {
      "text/plain": [
       "\u001b[32mimport \u001b[39m\u001b[36mvegas._\n",
       "\u001b[39m\n",
       "\u001b[32mimport \u001b[39m\u001b[36mvegas.data.External._\n",
       "\u001b[39m"
      ]
     },
     "execution_count": 2,
     "metadata": {},
     "output_type": "execute_result"
    }
   ],
   "source": [
    "import vegas._\n",
    "import vegas.data.External._\n"
   ]
  },
  {
   "cell_type": "code",
   "execution_count": 16,
   "metadata": {},
   "outputs": [
    {
     "data": {
      "text/plain": [
       "\u001b[36ma\u001b[39m: \u001b[32mString\u001b[39m = \u001b[32m\"mybigdatasalskdfj\"\u001b[39m"
      ]
     },
     "execution_count": 16,
     "metadata": {},
     "output_type": "execute_result"
    }
   ],
   "source": [
    "val a = \"mybigdatasalskdfj\""
   ]
  },
  {
   "cell_type": "code",
   "execution_count": 17,
   "metadata": {},
   "outputs": [
    {
     "name": "stdout",
     "output_type": "stream",
     "text": [
      "mybigdatasalskdfj\n"
     ]
    }
   ],
   "source": [
    "println(a)"
   ]
  },
  {
   "cell_type": "markdown",
   "metadata": {},
   "source": [
    "# A simple bar chart with embedded data."
   ]
  },
  {
   "cell_type": "code",
   "execution_count": 3,
   "metadata": {},
   "outputs": [
    {
     "data": {
      "text/html": [
       "\n",
       "  <iframe id=\"frame-vegas-45c23f2c-67e0-432d-ad11-8377a4094b9e\" sandbox=\"allow-scripts allow-same-origin\" style=\"border: none; width: 100%\" srcdoc=\"&lt;html&gt;\n",
       "  &lt;head&gt;\n",
       "    &lt;script src=&quot;https://cdn.jsdelivr.net/webjars/org.webjars.bower/d3/3.5.17/d3.min.js&quot; charset=&quot;utf-8&quot;&gt;&lt;/script&gt;\n",
       "&lt;script src=&quot;https://cdn.jsdelivr.net/webjars/org.webjars.bower/vega/2.6.3/vega.min.js&quot; charset=&quot;utf-8&quot;&gt;&lt;/script&gt;\n",
       "&lt;script src=&quot;https://cdn.jsdelivr.net/webjars/org.webjars.bower/vega-lite/1.2.0/vega-lite.min.js&quot; charset=&quot;utf-8&quot;&gt;&lt;/script&gt;\n",
       "&lt;script src=&quot;https://vega.github.io/vega-editor/vendor/vega-embed.js&quot; charset=&quot;utf-8&quot;&gt;&lt;/script&gt;\n",
       "  &lt;/head&gt;\n",
       "  &lt;body&gt;\n",
       " &lt;script&gt;\n",
       "   var embedSpec = {\n",
       "     mode: &quot;vega-lite&quot;,\n",
       "     spec: {\n",
       "  &quot;mark&quot; : &quot;bar&quot;,\n",
       "  &quot;encoding&quot; : {\n",
       "    &quot;x&quot; : {\n",
       "      &quot;field&quot; : &quot;a&quot;,\n",
       "      &quot;type&quot; : &quot;ordinal&quot;\n",
       "    },\n",
       "    &quot;y&quot; : {\n",
       "      &quot;field&quot; : &quot;b&quot;,\n",
       "      &quot;type&quot; : &quot;quantitative&quot;\n",
       "    }\n",
       "  },\n",
       "  &quot;description&quot; : &quot;A simple bar chart with embedded data.&quot;,\n",
       "  &quot;data&quot; : {\n",
       "    &quot;values&quot; : [\n",
       "      {\n",
       "        &quot;a&quot; : &quot;A&quot;,\n",
       "        &quot;b&quot; : 28\n",
       "      },\n",
       "      {\n",
       "        &quot;a&quot; : &quot;B&quot;,\n",
       "        &quot;b&quot; : 55\n",
       "      },\n",
       "      {\n",
       "        &quot;a&quot; : &quot;C&quot;,\n",
       "        &quot;b&quot; : 43\n",
       "      },\n",
       "      {\n",
       "        &quot;a&quot; : &quot;D&quot;,\n",
       "        &quot;b&quot; : 91\n",
       "      },\n",
       "      {\n",
       "        &quot;a&quot; : &quot;E&quot;,\n",
       "        &quot;b&quot; : 81\n",
       "      },\n",
       "      {\n",
       "        &quot;a&quot; : &quot;F&quot;,\n",
       "        &quot;b&quot; : 53\n",
       "      },\n",
       "      {\n",
       "        &quot;a&quot; : &quot;G&quot;,\n",
       "        &quot;b&quot; : 19\n",
       "      },\n",
       "      {\n",
       "        &quot;a&quot; : &quot;H&quot;,\n",
       "        &quot;b&quot; : 87\n",
       "      },\n",
       "      {\n",
       "        &quot;a&quot; : &quot;I&quot;,\n",
       "        &quot;b&quot; : 52\n",
       "      }\n",
       "    ]\n",
       "  }\n",
       "}\n",
       "   }\n",
       "   vg.embed(&quot;#vegas-45c23f2c-67e0-432d-ad11-8377a4094b9e&quot;, embedSpec, function(error, result) {});\n",
       " &lt;/script&gt;\n",
       " &lt;div id='vegas-45c23f2c-67e0-432d-ad11-8377a4094b9e'&gt;&lt;/div&gt;\n",
       "    &lt;/body&gt;\n",
       "&lt;/html&gt;\"></iframe>\n",
       "  <script>\n",
       "    if (typeof resizeIFrame != 'function') {\n",
       "      function resizeIFrame(el, k) {\n",
       "        $(el.contentWindow.document).ready(function() {\n",
       "          el.style.height = el.contentWindow.document.body.scrollHeight + 'px';\n",
       "        });\n",
       "        if (k <= 10) { setTimeout(function() { resizeIFrame(el, k+1) }, 1000 + (k * 250)) };\n",
       "      }\n",
       "    }\n",
       "    $().ready( function() { resizeIFrame($('#frame-vegas-45c23f2c-67e0-432d-ad11-8377a4094b9e').get(0), 1); });\n",
       "  </script>\n",
       "    "
      ]
     },
     "metadata": {},
     "output_type": "display_data"
    }
   ],
   "source": [
    "Vegas(\"A simple bar chart with embedded data.\").\n",
    "  withData(Seq(\n",
    "    Map(\"a\" -> \"A\", \"b\" -> 28), Map(\"a\" -> \"B\", \"b\" -> 55), Map(\"a\" -> \"C\", \"b\" -> 43),\n",
    "    Map(\"a\" -> \"D\", \"b\" -> 91), Map(\"a\" -> \"E\", \"b\" -> 81), Map(\"a\" -> \"F\", \"b\" -> 53),\n",
    "    Map(\"a\" -> \"G\", \"b\" -> 19), Map(\"a\" -> \"H\", \"b\" -> 87), Map(\"a\" -> \"I\", \"b\" -> 52)\n",
    "  )).\n",
    "  encodeX(\"a\", Ordinal).\n",
    "  encodeY(\"b\", Quantitative).\n",
    "  mark(Bar).\n",
    "  show\n"
   ]
  },
  {
   "cell_type": "markdown",
   "metadata": {},
   "source": [
    "# A bar chart showing the US population distribution of age groups in 2000."
   ]
  },
  {
   "cell_type": "code",
   "execution_count": 4,
   "metadata": {},
   "outputs": [
    {
     "data": {
      "text/html": [
       "\n",
       "  <iframe id=\"frame-vegas-ea6e17de-5a44-41f6-bf60-2824e3c3bcf8\" sandbox=\"allow-scripts allow-same-origin\" style=\"border: none; width: 100%\" srcdoc=\"&lt;html&gt;\n",
       "  &lt;head&gt;\n",
       "    &lt;script src=&quot;https://cdn.jsdelivr.net/webjars/org.webjars.bower/d3/3.5.17/d3.min.js&quot; charset=&quot;utf-8&quot;&gt;&lt;/script&gt;\n",
       "&lt;script src=&quot;https://cdn.jsdelivr.net/webjars/org.webjars.bower/vega/2.6.3/vega.min.js&quot; charset=&quot;utf-8&quot;&gt;&lt;/script&gt;\n",
       "&lt;script src=&quot;https://cdn.jsdelivr.net/webjars/org.webjars.bower/vega-lite/1.2.0/vega-lite.min.js&quot; charset=&quot;utf-8&quot;&gt;&lt;/script&gt;\n",
       "&lt;script src=&quot;https://vega.github.io/vega-editor/vendor/vega-embed.js&quot; charset=&quot;utf-8&quot;&gt;&lt;/script&gt;\n",
       "  &lt;/head&gt;\n",
       "  &lt;body&gt;\n",
       " &lt;script&gt;\n",
       "   var embedSpec = {\n",
       "     mode: &quot;vega-lite&quot;,\n",
       "     spec: {\n",
       "  &quot;mark&quot; : &quot;bar&quot;,\n",
       "  &quot;encoding&quot; : {\n",
       "    &quot;x&quot; : {\n",
       "      &quot;axis&quot; : {\n",
       "        &quot;title&quot; : &quot;population&quot;\n",
       "      },\n",
       "      &quot;field&quot; : &quot;people&quot;,\n",
       "      &quot;type&quot; : &quot;quantitative&quot;,\n",
       "      &quot;aggregate&quot; : &quot;sum&quot;\n",
       "    },\n",
       "    &quot;y&quot; : {\n",
       "      &quot;scale&quot; : {\n",
       "        &quot;bandSize&quot; : 17.0\n",
       "      },\n",
       "      &quot;field&quot; : &quot;age&quot;,\n",
       "      &quot;type&quot; : &quot;ordinal&quot;\n",
       "    }\n",
       "  },\n",
       "  &quot;description&quot; : &quot;A bar chart showing the US population distribution of age groups in 2000.&quot;,\n",
       "  &quot;data&quot; : {\n",
       "    &quot;url&quot; : &quot;https://vega.github.io/vega-editor/app/data/population.json&quot;\n",
       "  },\n",
       "  &quot;transform&quot; : {\n",
       "    &quot;filter&quot; : &quot;datum.year == 2000&quot;\n",
       "  }\n",
       "}\n",
       "   }\n",
       "   vg.embed(&quot;#vegas-ea6e17de-5a44-41f6-bf60-2824e3c3bcf8&quot;, embedSpec, function(error, result) {});\n",
       " &lt;/script&gt;\n",
       " &lt;div id='vegas-ea6e17de-5a44-41f6-bf60-2824e3c3bcf8'&gt;&lt;/div&gt;\n",
       "    &lt;/body&gt;\n",
       "&lt;/html&gt;\"></iframe>\n",
       "  <script>\n",
       "    if (typeof resizeIFrame != 'function') {\n",
       "      function resizeIFrame(el, k) {\n",
       "        $(el.contentWindow.document).ready(function() {\n",
       "          el.style.height = el.contentWindow.document.body.scrollHeight + 'px';\n",
       "        });\n",
       "        if (k <= 10) { setTimeout(function() { resizeIFrame(el, k+1) }, 1000 + (k * 250)) };\n",
       "      }\n",
       "    }\n",
       "    $().ready( function() { resizeIFrame($('#frame-vegas-ea6e17de-5a44-41f6-bf60-2824e3c3bcf8').get(0), 1); });\n",
       "  </script>\n",
       "    "
      ]
     },
     "metadata": {},
     "output_type": "display_data"
    }
   ],
   "source": [
    "Vegas(\"A bar chart showing the US population distribution of age groups in 2000.\").\n",
    "  withURL(Population).\n",
    "  mark(Bar).\n",
    "  filter(\"datum.year == 2000\").\n",
    "  encodeY(\"age\", Ordinal, scale=Scale(bandSize=17)).\n",
    "  encodeX(\"people\", Quantitative, aggregate=AggOps.Sum, axis=Axis(title=\"population\")).\n",
    "  show\n"
   ]
  },
  {
   "cell_type": "code",
   "execution_count": 5,
   "metadata": {},
   "outputs": [
    {
     "data": {
      "text/html": [
       "\n",
       "  <iframe id=\"frame-vegas-a730e077-0a66-4c54-82c2-fc3f496e52d0\" sandbox=\"allow-scripts allow-same-origin\" style=\"border: none; width: 100%\" srcdoc=\"&lt;html&gt;\n",
       "  &lt;head&gt;\n",
       "    &lt;script src=&quot;https://cdn.jsdelivr.net/webjars/org.webjars.bower/d3/3.5.17/d3.min.js&quot; charset=&quot;utf-8&quot;&gt;&lt;/script&gt;\n",
       "&lt;script src=&quot;https://cdn.jsdelivr.net/webjars/org.webjars.bower/vega/2.6.3/vega.min.js&quot; charset=&quot;utf-8&quot;&gt;&lt;/script&gt;\n",
       "&lt;script src=&quot;https://cdn.jsdelivr.net/webjars/org.webjars.bower/vega-lite/1.2.0/vega-lite.min.js&quot; charset=&quot;utf-8&quot;&gt;&lt;/script&gt;\n",
       "&lt;script src=&quot;https://vega.github.io/vega-editor/vendor/vega-embed.js&quot; charset=&quot;utf-8&quot;&gt;&lt;/script&gt;\n",
       "  &lt;/head&gt;\n",
       "  &lt;body&gt;\n",
       " &lt;script&gt;\n",
       "   var embedSpec = {\n",
       "     mode: &quot;vega-lite&quot;,\n",
       "     spec: {\n",
       "  &quot;mark&quot; : &quot;bar&quot;,\n",
       "  &quot;encoding&quot; : {\n",
       "    &quot;column&quot; : {\n",
       "      &quot;axis&quot; : {\n",
       "        &quot;orient&quot; : &quot;bottom&quot;,\n",
       "        &quot;axisWidth&quot; : 1.0,\n",
       "        &quot;offset&quot; : -8.0\n",
       "      },\n",
       "      &quot;scale&quot; : {\n",
       "        &quot;padding&quot; : 4.0\n",
       "      },\n",
       "      &quot;field&quot; : &quot;age&quot;,\n",
       "      &quot;type&quot; : &quot;ordinal&quot;\n",
       "    },\n",
       "    &quot;x&quot; : {\n",
       "      &quot;axis&quot; : false,\n",
       "      &quot;scale&quot; : {\n",
       "        &quot;bandSize&quot; : 6.0\n",
       "      },\n",
       "      &quot;field&quot; : &quot;gender&quot;,\n",
       "      &quot;type&quot; : &quot;nominal&quot;\n",
       "    },\n",
       "    &quot;y&quot; : {\n",
       "      &quot;axis&quot; : {\n",
       "        &quot;title&quot; : &quot;population&quot;,\n",
       "        &quot;grid&quot; : false\n",
       "      },\n",
       "      &quot;field&quot; : &quot;people&quot;,\n",
       "      &quot;type&quot; : &quot;quantitative&quot;,\n",
       "      &quot;aggregate&quot; : &quot;sum&quot;\n",
       "    },\n",
       "    &quot;color&quot; : {\n",
       "      &quot;scale&quot; : {\n",
       "        &quot;range&quot; : [\n",
       "          &quot;#EA98D2&quot;,\n",
       "          &quot;#659CCA&quot;\n",
       "        ]\n",
       "      },\n",
       "      &quot;field&quot; : &quot;gender&quot;,\n",
       "      &quot;type&quot; : &quot;nominal&quot;\n",
       "    }\n",
       "  },\n",
       "  &quot;data&quot; : {\n",
       "    &quot;url&quot; : &quot;https://vega.github.io/vega-editor/app/data/population.json&quot;\n",
       "  },\n",
       "  &quot;transform&quot; : {\n",
       "    &quot;filter&quot; : &quot;datum.year == 2000&quot;,\n",
       "    &quot;calculate&quot; : [\n",
       "      {\n",
       "        &quot;field&quot; : &quot;gender&quot;,\n",
       "        &quot;expr&quot; : &quot;datum.sex == 2 ? \\&quot;Female\\&quot; : \\&quot;Male\\&quot;&quot;\n",
       "      }\n",
       "    ]\n",
       "  },\n",
       "  &quot;config&quot; : {\n",
       "    &quot;facet&quot; : {\n",
       "      &quot;cell&quot; : {\n",
       "        &quot;strokeWidth&quot; : 0.0\n",
       "      }\n",
       "    }\n",
       "  }\n",
       "}\n",
       "   }\n",
       "   vg.embed(&quot;#vegas-a730e077-0a66-4c54-82c2-fc3f496e52d0&quot;, embedSpec, function(error, result) {});\n",
       " &lt;/script&gt;\n",
       " &lt;div id='vegas-a730e077-0a66-4c54-82c2-fc3f496e52d0'&gt;&lt;/div&gt;\n",
       "    &lt;/body&gt;\n",
       "&lt;/html&gt;\"></iframe>\n",
       "  <script>\n",
       "    if (typeof resizeIFrame != 'function') {\n",
       "      function resizeIFrame(el, k) {\n",
       "        $(el.contentWindow.document).ready(function() {\n",
       "          el.style.height = el.contentWindow.document.body.scrollHeight + 'px';\n",
       "        });\n",
       "        if (k <= 10) { setTimeout(function() { resizeIFrame(el, k+1) }, 1000 + (k * 250)) };\n",
       "      }\n",
       "    }\n",
       "    $().ready( function() { resizeIFrame($('#frame-vegas-a730e077-0a66-4c54-82c2-fc3f496e52d0').get(0), 1); });\n",
       "  </script>\n",
       "    "
      ]
     },
     "metadata": {},
     "output_type": "display_data"
    }
   ],
   "source": [
    "Vegas().\n",
    "  withURL(Population).\n",
    "  mark(Bar).\n",
    "  addTransformCalculation(\"gender\", \"\"\"datum.sex == 2 ? \"Female\" : \"Male\"\"\"\").\n",
    "  filter(\"datum.year == 2000\").\n",
    "  encodeColumn(\"age\", Ord, scale=Scale(padding=4.0), axis=Axis(orient=Orient.Bottom, axisWidth=1.0, offset= -8.0)).\n",
    "  encodeY(\"people\", Quantitative, aggregate=AggOps.Sum, axis=Axis(title=\"population\", grid=false)).\n",
    "  encodeX(\"gender\", Nominal, scale=Scale(bandSize = 6.0), hideAxis=true).\n",
    "  encodeColor(\"gender\", Nominal, scale=Scale(rangeNominals=List(\"#EA98D2\", \"#659CCA\"))).\n",
    "  configFacet(cell=CellConfig(strokeWidth = 0)).\n",
    "  show\n"
   ]
  },
  {
   "cell_type": "code",
   "execution_count": 6,
   "metadata": {},
   "outputs": [
    {
     "data": {
      "text/html": [
       "\n",
       "  <iframe id=\"frame-vegas-f841e45b-e577-4502-b7cf-f67dceb6c654\" sandbox=\"allow-scripts allow-same-origin\" style=\"border: none; width: 100%\" srcdoc=\"&lt;html&gt;\n",
       "  &lt;head&gt;\n",
       "    &lt;script src=&quot;https://cdn.jsdelivr.net/webjars/org.webjars.bower/d3/3.5.17/d3.min.js&quot; charset=&quot;utf-8&quot;&gt;&lt;/script&gt;\n",
       "&lt;script src=&quot;https://cdn.jsdelivr.net/webjars/org.webjars.bower/vega/2.6.3/vega.min.js&quot; charset=&quot;utf-8&quot;&gt;&lt;/script&gt;\n",
       "&lt;script src=&quot;https://cdn.jsdelivr.net/webjars/org.webjars.bower/vega-lite/1.2.0/vega-lite.min.js&quot; charset=&quot;utf-8&quot;&gt;&lt;/script&gt;\n",
       "&lt;script src=&quot;https://vega.github.io/vega-editor/vendor/vega-embed.js&quot; charset=&quot;utf-8&quot;&gt;&lt;/script&gt;\n",
       "  &lt;/head&gt;\n",
       "  &lt;body&gt;\n",
       " &lt;script&gt;\n",
       "   var embedSpec = {\n",
       "     mode: &quot;vega-lite&quot;,\n",
       "     spec: {\n",
       "  &quot;mark&quot; : &quot;area&quot;,\n",
       "  &quot;encoding&quot; : {\n",
       "    &quot;x&quot; : {\n",
       "      &quot;axis&quot; : {\n",
       "        &quot;labelAngle&quot; : 0.0,\n",
       "        &quot;format&quot; : &quot;%Y&quot;,\n",
       "        &quot;axisWidth&quot; : 0.0\n",
       "      },\n",
       "      &quot;scale&quot; : {\n",
       "        &quot;nice&quot; : &quot;month&quot;\n",
       "      },\n",
       "      &quot;field&quot; : &quot;date&quot;,\n",
       "      &quot;type&quot; : &quot;temporal&quot;,\n",
       "      &quot;timeUnit&quot; : &quot;yearmonth&quot;\n",
       "    },\n",
       "    &quot;y&quot; : {\n",
       "      &quot;field&quot; : &quot;count&quot;,\n",
       "      &quot;type&quot; : &quot;quantitative&quot;,\n",
       "      &quot;aggregate&quot; : &quot;sum&quot;\n",
       "    }\n",
       "  },\n",
       "  &quot;data&quot; : {\n",
       "    &quot;url&quot; : &quot;https://vega.github.io/vega-editor/app/data/unemployment-across-industries.json&quot;\n",
       "  },\n",
       "  &quot;config&quot; : {\n",
       "    &quot;cell&quot; : {\n",
       "      &quot;width&quot; : 300.0,\n",
       "      &quot;height&quot; : 200.0\n",
       "    }\n",
       "  }\n",
       "}\n",
       "   }\n",
       "   vg.embed(&quot;#vegas-f841e45b-e577-4502-b7cf-f67dceb6c654&quot;, embedSpec, function(error, result) {});\n",
       " &lt;/script&gt;\n",
       " &lt;div id='vegas-f841e45b-e577-4502-b7cf-f67dceb6c654'&gt;&lt;/div&gt;\n",
       "    &lt;/body&gt;\n",
       "&lt;/html&gt;\"></iframe>\n",
       "  <script>\n",
       "    if (typeof resizeIFrame != 'function') {\n",
       "      function resizeIFrame(el, k) {\n",
       "        $(el.contentWindow.document).ready(function() {\n",
       "          el.style.height = el.contentWindow.document.body.scrollHeight + 'px';\n",
       "        });\n",
       "        if (k <= 10) { setTimeout(function() { resizeIFrame(el, k+1) }, 1000 + (k * 250)) };\n",
       "      }\n",
       "    }\n",
       "    $().ready( function() { resizeIFrame($('#frame-vegas-f841e45b-e577-4502-b7cf-f67dceb6c654').get(0), 1); });\n",
       "  </script>\n",
       "    "
      ]
     },
     "metadata": {},
     "output_type": "display_data"
    }
   ],
   "source": [
    "Vegas().\n",
    "  withURL(Unemployment).\n",
    "  mark(Area).\n",
    "  encodeX(\"date\", Temp, timeUnit=TimeUnit.Yearmonth, scale=Scale(nice=Nice.Month),\n",
    "    axis=Axis(axisWidth=0, format=\"%Y\", labelAngle=0)).\n",
    "  encodeY(\"count\", Quantitative, aggregate=AggOps.Sum).\n",
    "  configCell(width=300, height=200).\n",
    "  show\n"
   ]
  },
  {
   "cell_type": "code",
   "execution_count": 7,
   "metadata": {},
   "outputs": [
    {
     "data": {
      "text/html": [
       "\n",
       "  <iframe id=\"frame-vegas-950ffa6b-129e-4d45-918c-50d744ee65fd\" sandbox=\"allow-scripts allow-same-origin\" style=\"border: none; width: 100%\" srcdoc=\"&lt;html&gt;\n",
       "  &lt;head&gt;\n",
       "    &lt;script src=&quot;https://cdn.jsdelivr.net/webjars/org.webjars.bower/d3/3.5.17/d3.min.js&quot; charset=&quot;utf-8&quot;&gt;&lt;/script&gt;\n",
       "&lt;script src=&quot;https://cdn.jsdelivr.net/webjars/org.webjars.bower/vega/2.6.3/vega.min.js&quot; charset=&quot;utf-8&quot;&gt;&lt;/script&gt;\n",
       "&lt;script src=&quot;https://cdn.jsdelivr.net/webjars/org.webjars.bower/vega-lite/1.2.0/vega-lite.min.js&quot; charset=&quot;utf-8&quot;&gt;&lt;/script&gt;\n",
       "&lt;script src=&quot;https://vega.github.io/vega-editor/vendor/vega-embed.js&quot; charset=&quot;utf-8&quot;&gt;&lt;/script&gt;\n",
       "  &lt;/head&gt;\n",
       "  &lt;body&gt;\n",
       " &lt;script&gt;\n",
       "   var embedSpec = {\n",
       "     mode: &quot;vega-lite&quot;,\n",
       "     spec: {\n",
       "  &quot;mark&quot; : &quot;bar&quot;,\n",
       "  &quot;encoding&quot; : {\n",
       "    &quot;x&quot; : {\n",
       "      &quot;scale&quot; : {\n",
       "        &quot;bandSize&quot; : 17.0\n",
       "      },\n",
       "      &quot;field&quot; : &quot;age&quot;,\n",
       "      &quot;type&quot; : &quot;ordinal&quot;\n",
       "    },\n",
       "    &quot;y&quot; : {\n",
       "      &quot;axis&quot; : {\n",
       "        &quot;title&quot; : &quot;population&quot;\n",
       "      },\n",
       "      &quot;field&quot; : &quot;people&quot;,\n",
       "      &quot;type&quot; : &quot;quantitative&quot;,\n",
       "      &quot;aggregate&quot; : &quot;sum&quot;\n",
       "    },\n",
       "    &quot;color&quot; : {\n",
       "      &quot;scale&quot; : {\n",
       "        &quot;range&quot; : [\n",
       "          &quot;#EA98D2&quot;,\n",
       "          &quot;#659CCA&quot;\n",
       "        ]\n",
       "      },\n",
       "      &quot;field&quot; : &quot;gender&quot;,\n",
       "      &quot;type&quot; : &quot;nominal&quot;\n",
       "    }\n",
       "  },\n",
       "  &quot;data&quot; : {\n",
       "    &quot;url&quot; : &quot;https://vega.github.io/vega-editor/app/data/population.json&quot;\n",
       "  },\n",
       "  &quot;transform&quot; : {\n",
       "    &quot;filter&quot; : &quot;datum.year == 2000&quot;,\n",
       "    &quot;calculate&quot; : [\n",
       "      {\n",
       "        &quot;field&quot; : &quot;gender&quot;,\n",
       "        &quot;expr&quot; : &quot;datum.sex == 2 ? \\&quot;Female\\&quot; : \\&quot;Male\\&quot;&quot;\n",
       "      }\n",
       "    ]\n",
       "  },\n",
       "  &quot;config&quot; : {\n",
       "    &quot;mark&quot; : {\n",
       "      &quot;stacked&quot; : &quot;normalize&quot;\n",
       "    }\n",
       "  }\n",
       "}\n",
       "   }\n",
       "   vg.embed(&quot;#vegas-950ffa6b-129e-4d45-918c-50d744ee65fd&quot;, embedSpec, function(error, result) {});\n",
       " &lt;/script&gt;\n",
       " &lt;div id='vegas-950ffa6b-129e-4d45-918c-50d744ee65fd'&gt;&lt;/div&gt;\n",
       "    &lt;/body&gt;\n",
       "&lt;/html&gt;\"></iframe>\n",
       "  <script>\n",
       "    if (typeof resizeIFrame != 'function') {\n",
       "      function resizeIFrame(el, k) {\n",
       "        $(el.contentWindow.document).ready(function() {\n",
       "          el.style.height = el.contentWindow.document.body.scrollHeight + 'px';\n",
       "        });\n",
       "        if (k <= 10) { setTimeout(function() { resizeIFrame(el, k+1) }, 1000 + (k * 250)) };\n",
       "      }\n",
       "    }\n",
       "    $().ready( function() { resizeIFrame($('#frame-vegas-950ffa6b-129e-4d45-918c-50d744ee65fd').get(0), 1); });\n",
       "  </script>\n",
       "    "
      ]
     },
     "metadata": {},
     "output_type": "display_data"
    }
   ],
   "source": [
    "Vegas().\n",
    "  withURL(Population).\n",
    "  filter(\"datum.year == 2000\").\n",
    "  addTransform(\"gender\", \"datum.sex == 2 ? \\\"Female\\\" : \\\"Male\\\"\").\n",
    "  mark(Bar).\n",
    "  encodeY(\"people\", Quant, AggOps.Sum, axis=Axis(title=\"population\")).\n",
    "  encodeX(\"age\", Ord, scale=Scale(bandSize= 17)).\n",
    "  encodeColor(\"gender\", Nominal, scale=Scale(rangeNominals=List(\"#EA98D2\", \"#659CCA\"))).\n",
    "  configMark(stacked=StackOffset.Normalize).\n",
    "  show\n"
   ]
  },
  {
   "cell_type": "markdown",
   "metadata": {},
   "source": [
    "# A trellis scatterplot showing Horsepower and Miles per gallons, faceted by binned values of Acceleration."
   ]
  },
  {
   "cell_type": "code",
   "execution_count": 8,
   "metadata": {},
   "outputs": [
    {
     "data": {
      "text/html": [
       "\n",
       "  <iframe id=\"frame-vegas-9ab80b89-cd2f-4623-ae77-0d78306e1f63\" sandbox=\"allow-scripts allow-same-origin\" style=\"border: none; width: 100%\" srcdoc=\"&lt;html&gt;\n",
       "  &lt;head&gt;\n",
       "    &lt;script src=&quot;https://cdn.jsdelivr.net/webjars/org.webjars.bower/d3/3.5.17/d3.min.js&quot; charset=&quot;utf-8&quot;&gt;&lt;/script&gt;\n",
       "&lt;script src=&quot;https://cdn.jsdelivr.net/webjars/org.webjars.bower/vega/2.6.3/vega.min.js&quot; charset=&quot;utf-8&quot;&gt;&lt;/script&gt;\n",
       "&lt;script src=&quot;https://cdn.jsdelivr.net/webjars/org.webjars.bower/vega-lite/1.2.0/vega-lite.min.js&quot; charset=&quot;utf-8&quot;&gt;&lt;/script&gt;\n",
       "&lt;script src=&quot;https://vega.github.io/vega-editor/vendor/vega-embed.js&quot; charset=&quot;utf-8&quot;&gt;&lt;/script&gt;\n",
       "  &lt;/head&gt;\n",
       "  &lt;body&gt;\n",
       " &lt;script&gt;\n",
       "   var embedSpec = {\n",
       "     mode: &quot;vega-lite&quot;,\n",
       "     spec: {\n",
       "  &quot;mark&quot; : &quot;point&quot;,\n",
       "  &quot;encoding&quot; : {\n",
       "    &quot;row&quot; : {\n",
       "      &quot;field&quot; : &quot;Acceleration&quot;,\n",
       "      &quot;type&quot; : &quot;quantitative&quot;,\n",
       "      &quot;bin&quot; : true\n",
       "    },\n",
       "    &quot;x&quot; : {\n",
       "      &quot;field&quot; : &quot;Horsepower&quot;,\n",
       "      &quot;type&quot; : &quot;quantitative&quot;\n",
       "    },\n",
       "    &quot;y&quot; : {\n",
       "      &quot;field&quot; : &quot;Miles_per_Gallon&quot;,\n",
       "      &quot;type&quot; : &quot;quantitative&quot;\n",
       "    }\n",
       "  },\n",
       "  &quot;description&quot; : &quot;A trellis scatterplot showing Horsepower and Miles per gallons, faceted by binned values of Acceleration.&quot;,\n",
       "  &quot;data&quot; : {\n",
       "    &quot;url&quot; : &quot;https://vega.github.io/vega-editor/app/data/cars.json&quot;\n",
       "  }\n",
       "}\n",
       "   }\n",
       "   vg.embed(&quot;#vegas-9ab80b89-cd2f-4623-ae77-0d78306e1f63&quot;, embedSpec, function(error, result) {});\n",
       " &lt;/script&gt;\n",
       " &lt;div id='vegas-9ab80b89-cd2f-4623-ae77-0d78306e1f63'&gt;&lt;/div&gt;\n",
       "    &lt;/body&gt;\n",
       "&lt;/html&gt;\"></iframe>\n",
       "  <script>\n",
       "    if (typeof resizeIFrame != 'function') {\n",
       "      function resizeIFrame(el, k) {\n",
       "        $(el.contentWindow.document).ready(function() {\n",
       "          el.style.height = el.contentWindow.document.body.scrollHeight + 'px';\n",
       "        });\n",
       "        if (k <= 10) { setTimeout(function() { resizeIFrame(el, k+1) }, 1000 + (k * 250)) };\n",
       "      }\n",
       "    }\n",
       "    $().ready( function() { resizeIFrame($('#frame-vegas-9ab80b89-cd2f-4623-ae77-0d78306e1f63').get(0), 1); });\n",
       "  </script>\n",
       "    "
      ]
     },
     "metadata": {},
     "output_type": "display_data"
    }
   ],
   "source": [
    "Vegas(\"A trellis scatterplot showing Horsepower and Miles per gallons, faceted by binned values of Acceleration.\").\n",
    "  withURL(Cars).\n",
    "  mark(Point).\n",
    "  encodeX(\"Horsepower\", Quantitative).\n",
    "  encodeY(\"Miles_per_Gallon\", Quantitative).\n",
    "  encodeRow(\"Acceleration\", Quantitative, enableBin=true).\n",
    "  show\n"
   ]
  },
  {
   "cell_type": "code",
   "execution_count": null,
   "metadata": {
    "collapsed": true
   },
   "outputs": [],
   "source": [
    "Vegas().\n",
    "  withURL(Movies).\n",
    "  mark(Point).\n",
    "  encodeX(\"IMDB_Rating\", Quantitative, bin=Bin(maxbins=10.0)).\n",
    "  encodeY(\"Rotten_Tomatoes_Rating\", Quantitative, bin=Bin(maxbins=10.0)).\n",
    "  encodeSize(aggregate=AggOps.Count, field=\"*\", dataType=Quantitative).\n",
    "  show\n"
   ]
  },
  {
   "cell_type": "code",
   "execution_count": null,
   "metadata": {
    "collapsed": true
   },
   "outputs": [],
   "source": [
    "Vegas().\n",
    "  withURL(Cars).\n",
    "  mark(Point).\n",
    "  encodeX(\"Horsepower\", Quantitative).\n",
    "  encodeY(\"Miles_per_Gallon\", Quantitative).\n",
    "  encodeColor(field=\"Origin\", dataType=Nominal).\n",
    "  show\n"
   ]
  },
  {
   "cell_type": "markdown",
   "metadata": {},
   "source": [
    "# A scatterplot showing horsepower and miles per gallons with binned acceleration on color."
   ]
  },
  {
   "cell_type": "code",
   "execution_count": null,
   "metadata": {
    "collapsed": true
   },
   "outputs": [],
   "source": [
    "Vegas(\"A scatterplot showing horsepower and miles per gallons with binned acceleration on color.\").\n",
    "  withURL(Cars).\n",
    "  mark(Point).\n",
    "  encodeX(\"Horsepower\", Quantitative).\n",
    "  encodeY(\"Miles_per_Gallon\", Quantitative).\n",
    "  encodeColor(field=\"Acceleration\", dataType=Quantitative, bin=Bin(maxbins=5.0)).\n",
    "  show\n"
   ]
  },
  {
   "cell_type": "code",
   "execution_count": null,
   "metadata": {
    "collapsed": true
   },
   "outputs": [],
   "source": [
    "Vegas().\n",
    "  withURL(Cars).\n",
    "  mark(Area).\n",
    "  encodeX(\"Acceleration\", Quantitative, bin=Bin()).\n",
    "  encodeY(\"Horsepower\", Quantitative, AggOps.Mean, enableBin=false).\n",
    "  encodeColor(field=\"Cylinders\", dataType=Nominal).\n",
    "  show\n"
   ]
  },
  {
   "cell_type": "markdown",
   "metadata": {},
   "source": [
    "# The Trellis display by Becker et al. helped establish small multiples as a “powerful mechanism for understanding interactions in studies of how a response depends on explanatory variables”. Here we reproduce a trellis of Barley yields from the 1930s, complete with main-effects ordering to facilitate comparison."
   ]
  },
  {
   "cell_type": "code",
   "execution_count": 9,
   "metadata": {},
   "outputs": [
    {
     "data": {
      "text/html": [
       "\n",
       "  <iframe id=\"frame-vegas-19487b90-cf99-47a1-88cd-9ceba8aec073\" sandbox=\"allow-scripts allow-same-origin\" style=\"border: none; width: 100%\" srcdoc=\"&lt;html&gt;\n",
       "  &lt;head&gt;\n",
       "    &lt;script src=&quot;https://cdn.jsdelivr.net/webjars/org.webjars.bower/d3/3.5.17/d3.min.js&quot; charset=&quot;utf-8&quot;&gt;&lt;/script&gt;\n",
       "&lt;script src=&quot;https://cdn.jsdelivr.net/webjars/org.webjars.bower/vega/2.6.3/vega.min.js&quot; charset=&quot;utf-8&quot;&gt;&lt;/script&gt;\n",
       "&lt;script src=&quot;https://cdn.jsdelivr.net/webjars/org.webjars.bower/vega-lite/1.2.0/vega-lite.min.js&quot; charset=&quot;utf-8&quot;&gt;&lt;/script&gt;\n",
       "&lt;script src=&quot;https://vega.github.io/vega-editor/vendor/vega-embed.js&quot; charset=&quot;utf-8&quot;&gt;&lt;/script&gt;\n",
       "  &lt;/head&gt;\n",
       "  &lt;body&gt;\n",
       " &lt;script&gt;\n",
       "   var embedSpec = {\n",
       "     mode: &quot;vega-lite&quot;,\n",
       "     spec: {\n",
       "  &quot;mark&quot; : &quot;point&quot;,\n",
       "  &quot;encoding&quot; : {\n",
       "    &quot;row&quot; : {\n",
       "      &quot;field&quot; : &quot;site&quot;,\n",
       "      &quot;type&quot; : &quot;ordinal&quot;\n",
       "    },\n",
       "    &quot;x&quot; : {\n",
       "      &quot;field&quot; : &quot;yield&quot;,\n",
       "      &quot;type&quot; : &quot;quantitative&quot;,\n",
       "      &quot;aggregate&quot; : &quot;mean&quot;\n",
       "    },\n",
       "    &quot;y&quot; : {\n",
       "      &quot;scale&quot; : {\n",
       "        &quot;bandSize&quot; : 12.0\n",
       "      },\n",
       "      &quot;sort&quot; : {\n",
       "        &quot;field&quot; : &quot;yield&quot;,\n",
       "        &quot;op&quot; : &quot;mean&quot;\n",
       "      },\n",
       "      &quot;field&quot; : &quot;variety&quot;,\n",
       "      &quot;type&quot; : &quot;ordinal&quot;\n",
       "    },\n",
       "    &quot;color&quot; : {\n",
       "      &quot;field&quot; : &quot;year&quot;,\n",
       "      &quot;type&quot; : &quot;nominal&quot;\n",
       "    }\n",
       "  },\n",
       "  &quot;description&quot; : &quot;The Trellis display by Becker et al. helped establish small multiples as a “powerful mechanism for understanding interactions in studies of how a response depends on explanatory variables”. Here we reproduce a trellis of Barley yields from the 1930s, complete with main-effects ordering to facilitate comparison.&quot;,\n",
       "  &quot;data&quot; : {\n",
       "    &quot;url&quot; : &quot;https://vega.github.io/vega-editor/app/data/barley.json&quot;\n",
       "  }\n",
       "}\n",
       "   }\n",
       "   vg.embed(&quot;#vegas-19487b90-cf99-47a1-88cd-9ceba8aec073&quot;, embedSpec, function(error, result) {});\n",
       " &lt;/script&gt;\n",
       " &lt;div id='vegas-19487b90-cf99-47a1-88cd-9ceba8aec073'&gt;&lt;/div&gt;\n",
       "    &lt;/body&gt;\n",
       "&lt;/html&gt;\"></iframe>\n",
       "  <script>\n",
       "    if (typeof resizeIFrame != 'function') {\n",
       "      function resizeIFrame(el, k) {\n",
       "        $(el.contentWindow.document).ready(function() {\n",
       "          el.style.height = el.contentWindow.document.body.scrollHeight + 'px';\n",
       "        });\n",
       "        if (k <= 10) { setTimeout(function() { resizeIFrame(el, k+1) }, 1000 + (k * 250)) };\n",
       "      }\n",
       "    }\n",
       "    $().ready( function() { resizeIFrame($('#frame-vegas-19487b90-cf99-47a1-88cd-9ceba8aec073').get(0), 1); });\n",
       "  </script>\n",
       "    "
      ]
     },
     "metadata": {},
     "output_type": "display_data"
    }
   ],
   "source": [
    "Vegas(\"The Trellis display by Becker et al. helped establish small multiples as a “powerful mechanism for understanding interactions in studies of how a response depends on explanatory variables”. Here we reproduce a trellis of Barley yields from the 1930s, complete with main-effects ordering to facilitate comparison.\").\n",
    "  withURL(Barley).\n",
    "  mark(Point).\n",
    "  encodeRow(\"site\", Ordinal).\n",
    "  encodeX(\"yield\", Quantitative, aggregate=AggOps.Mean).\n",
    "  encodeY(\"variety\", Ordinal, sortField=Sort(\"yield\", AggOps.Mean), scale=Scale(bandSize = 12.0)).\n",
    "  encodeColor(field=\"year\", dataType=Nominal).\n",
    "  show\n"
   ]
  },
  {
   "cell_type": "markdown",
   "metadata": {},
   "source": [
    "# A scatterplot with custom star shapes."
   ]
  },
  {
   "cell_type": "code",
   "execution_count": 10,
   "metadata": {},
   "outputs": [
    {
     "data": {
      "text/html": [
       "\n",
       "  <iframe id=\"frame-vegas-d292adde-1597-4d60-8acf-f42c35da469f\" sandbox=\"allow-scripts allow-same-origin\" style=\"border: none; width: 100%\" srcdoc=\"&lt;html&gt;\n",
       "  &lt;head&gt;\n",
       "    &lt;script src=&quot;https://cdn.jsdelivr.net/webjars/org.webjars.bower/d3/3.5.17/d3.min.js&quot; charset=&quot;utf-8&quot;&gt;&lt;/script&gt;\n",
       "&lt;script src=&quot;https://cdn.jsdelivr.net/webjars/org.webjars.bower/vega/2.6.3/vega.min.js&quot; charset=&quot;utf-8&quot;&gt;&lt;/script&gt;\n",
       "&lt;script src=&quot;https://cdn.jsdelivr.net/webjars/org.webjars.bower/vega-lite/1.2.0/vega-lite.min.js&quot; charset=&quot;utf-8&quot;&gt;&lt;/script&gt;\n",
       "&lt;script src=&quot;https://vega.github.io/vega-editor/vendor/vega-embed.js&quot; charset=&quot;utf-8&quot;&gt;&lt;/script&gt;\n",
       "  &lt;/head&gt;\n",
       "  &lt;body&gt;\n",
       " &lt;script&gt;\n",
       "   var embedSpec = {\n",
       "     mode: &quot;vega-lite&quot;,\n",
       "     spec: {\n",
       "  &quot;mark&quot; : &quot;point&quot;,\n",
       "  &quot;encoding&quot; : {\n",
       "    &quot;x&quot; : {\n",
       "      &quot;field&quot; : &quot;Horsepower&quot;,\n",
       "      &quot;type&quot; : &quot;quantitative&quot;\n",
       "    },\n",
       "    &quot;y&quot; : {\n",
       "      &quot;field&quot; : &quot;Miles_per_Gallon&quot;,\n",
       "      &quot;type&quot; : &quot;quantitative&quot;\n",
       "    },\n",
       "    &quot;color&quot; : {\n",
       "      &quot;field&quot; : &quot;Cylinders&quot;,\n",
       "      &quot;type&quot; : &quot;nominal&quot;\n",
       "    },\n",
       "    &quot;size&quot; : {\n",
       "      &quot;field&quot; : &quot;Weight_in_lbs&quot;,\n",
       "      &quot;type&quot; : &quot;quantitative&quot;\n",
       "    }\n",
       "  },\n",
       "  &quot;description&quot; : &quot;A scatterplot with custom star shapes.&quot;,\n",
       "  &quot;data&quot; : {\n",
       "    &quot;url&quot; : &quot;https://vega.github.io/vega-editor/app/data/cars.json&quot;\n",
       "  },\n",
       "  &quot;config&quot; : {\n",
       "    &quot;mark&quot; : {\n",
       "      &quot;shape&quot; : &quot;M0,0.2L0.2351,0.3236 0.1902,0.0618 0.3804,-0.1236 0.1175,-0.1618 0,-0.4 -0.1175,-0.1618 -0.3804,-0.1236 -0.1902,0.0618 -0.2351,0.3236 0,0.2Z&quot;\n",
       "    }\n",
       "  }\n",
       "}\n",
       "   }\n",
       "   vg.embed(&quot;#vegas-d292adde-1597-4d60-8acf-f42c35da469f&quot;, embedSpec, function(error, result) {});\n",
       " &lt;/script&gt;\n",
       " &lt;div id='vegas-d292adde-1597-4d60-8acf-f42c35da469f'&gt;&lt;/div&gt;\n",
       "    &lt;/body&gt;\n",
       "&lt;/html&gt;\"></iframe>\n",
       "  <script>\n",
       "    if (typeof resizeIFrame != 'function') {\n",
       "      function resizeIFrame(el, k) {\n",
       "        $(el.contentWindow.document).ready(function() {\n",
       "          el.style.height = el.contentWindow.document.body.scrollHeight + 'px';\n",
       "        });\n",
       "        if (k <= 10) { setTimeout(function() { resizeIFrame(el, k+1) }, 1000 + (k * 250)) };\n",
       "      }\n",
       "    }\n",
       "    $().ready( function() { resizeIFrame($('#frame-vegas-d292adde-1597-4d60-8acf-f42c35da469f').get(0), 1); });\n",
       "  </script>\n",
       "    "
      ]
     },
     "metadata": {},
     "output_type": "display_data"
    }
   ],
   "source": [
    "Vegas(\"A scatterplot with custom star shapes.\").\n",
    "  withURL(Cars).\n",
    "  mark(Point).\n",
    "  encodeX(\"Horsepower\", Quant).\n",
    "  encodeY(\"Miles_per_Gallon\", Quant).\n",
    "  encodeColor(\"Cylinders\", Nom).\n",
    "  encodeSize(\"Weight_in_lbs\", Quant).\n",
    "  configMark(customShape=\"M0,0.2L0.2351,0.3236 0.1902,0.0618 0.3804,-0.1236 0.1175,-0.1618 0,-0.4 -0.1175,-0.1618 -0.3804,-0.1236 -0.1902,0.0618 -0.2351,0.3236 0,0.2Z\").\n",
    "  show\n"
   ]
  },
  {
   "cell_type": "markdown",
   "metadata": {},
   "source": [
    "# A scatterplot showing average horsepower and displacement for cars from different origins."
   ]
  },
  {
   "cell_type": "code",
   "execution_count": 11,
   "metadata": {},
   "outputs": [
    {
     "data": {
      "text/html": [
       "\n",
       "  <iframe id=\"frame-vegas-83270f39-8a9c-455f-b1c4-5dabe4e8b2af\" sandbox=\"allow-scripts allow-same-origin\" style=\"border: none; width: 100%\" srcdoc=\"&lt;html&gt;\n",
       "  &lt;head&gt;\n",
       "    &lt;script src=&quot;https://cdn.jsdelivr.net/webjars/org.webjars.bower/d3/3.5.17/d3.min.js&quot; charset=&quot;utf-8&quot;&gt;&lt;/script&gt;\n",
       "&lt;script src=&quot;https://cdn.jsdelivr.net/webjars/org.webjars.bower/vega/2.6.3/vega.min.js&quot; charset=&quot;utf-8&quot;&gt;&lt;/script&gt;\n",
       "&lt;script src=&quot;https://cdn.jsdelivr.net/webjars/org.webjars.bower/vega-lite/1.2.0/vega-lite.min.js&quot; charset=&quot;utf-8&quot;&gt;&lt;/script&gt;\n",
       "&lt;script src=&quot;https://vega.github.io/vega-editor/vendor/vega-embed.js&quot; charset=&quot;utf-8&quot;&gt;&lt;/script&gt;\n",
       "  &lt;/head&gt;\n",
       "  &lt;body&gt;\n",
       " &lt;script&gt;\n",
       "   var embedSpec = {\n",
       "     mode: &quot;vega-lite&quot;,\n",
       "     spec: {\n",
       "  &quot;mark&quot; : &quot;point&quot;,\n",
       "  &quot;encoding&quot; : {\n",
       "    &quot;x&quot; : {\n",
       "      &quot;field&quot; : &quot;Horsepower&quot;,\n",
       "      &quot;type&quot; : &quot;quantitative&quot;,\n",
       "      &quot;aggregate&quot; : &quot;mean&quot;\n",
       "    },\n",
       "    &quot;y&quot; : {\n",
       "      &quot;field&quot; : &quot;Displacement&quot;,\n",
       "      &quot;type&quot; : &quot;quantitative&quot;,\n",
       "      &quot;aggregate&quot; : &quot;mean&quot;\n",
       "    },\n",
       "    &quot;detail&quot; : {\n",
       "      &quot;field&quot; : &quot;Origin&quot;\n",
       "    }\n",
       "  },\n",
       "  &quot;description&quot; : &quot;A scatterplot showing average horsepower and displacement for cars from different origins.&quot;,\n",
       "  &quot;data&quot; : {\n",
       "    &quot;url&quot; : &quot;https://vega.github.io/vega-editor/app/data/cars.json&quot;\n",
       "  }\n",
       "}\n",
       "   }\n",
       "   vg.embed(&quot;#vegas-83270f39-8a9c-455f-b1c4-5dabe4e8b2af&quot;, embedSpec, function(error, result) {});\n",
       " &lt;/script&gt;\n",
       " &lt;div id='vegas-83270f39-8a9c-455f-b1c4-5dabe4e8b2af'&gt;&lt;/div&gt;\n",
       "    &lt;/body&gt;\n",
       "&lt;/html&gt;\"></iframe>\n",
       "  <script>\n",
       "    if (typeof resizeIFrame != 'function') {\n",
       "      function resizeIFrame(el, k) {\n",
       "        $(el.contentWindow.document).ready(function() {\n",
       "          el.style.height = el.contentWindow.document.body.scrollHeight + 'px';\n",
       "        });\n",
       "        if (k <= 10) { setTimeout(function() { resizeIFrame(el, k+1) }, 1000 + (k * 250)) };\n",
       "      }\n",
       "    }\n",
       "    $().ready( function() { resizeIFrame($('#frame-vegas-83270f39-8a9c-455f-b1c4-5dabe4e8b2af').get(0), 1); });\n",
       "  </script>\n",
       "    "
      ]
     },
     "metadata": {},
     "output_type": "display_data"
    }
   ],
   "source": [
    "Vegas(\"A scatterplot showing average horsepower and displacement for cars from different origins.\").\n",
    "  withURL(Cars).\n",
    "  mark(Point).\n",
    "  encodeX(\"Horsepower\", Quant, AggOps.Mean).\n",
    "  encodeY(\"Displacement\", Quant, AggOps.Mean).\n",
    "  encodeDetail(\"Origin\").\n",
    "  show\n"
   ]
  },
  {
   "cell_type": "markdown",
   "metadata": {},
   "source": [
    "# Stock prices of 5 Tech Companies Over Time."
   ]
  },
  {
   "cell_type": "code",
   "execution_count": null,
   "metadata": {
    "collapsed": true
   },
   "outputs": [],
   "source": [
    "Vegas(\"Stock prices of 5 Tech Companies Over Time.\").\n",
    "  withURL(Stocks, formatType = DataFormat.Csv).\n",
    "  mark(Line).\n",
    "  encodeX(\"date\", Temp).\n",
    "  encodeY(\"price\", Quant).\n",
    "  encodeDetailFields(Field(field=\"symbol\", dataType=Nominal)).\n",
    "  show\n"
   ]
  },
  {
   "cell_type": "markdown",
   "metadata": {},
   "source": [
    "# Plot with hard-coded size value"
   ]
  },
  {
   "cell_type": "code",
   "execution_count": 12,
   "metadata": {},
   "outputs": [
    {
     "data": {
      "text/html": [
       "\n",
       "  <iframe id=\"frame-vegas-5e095fbf-9f83-4de2-b43f-64619e70264f\" sandbox=\"allow-scripts allow-same-origin\" style=\"border: none; width: 100%\" srcdoc=\"&lt;html&gt;\n",
       "  &lt;head&gt;\n",
       "    &lt;script src=&quot;https://cdn.jsdelivr.net/webjars/org.webjars.bower/d3/3.5.17/d3.min.js&quot; charset=&quot;utf-8&quot;&gt;&lt;/script&gt;\n",
       "&lt;script src=&quot;https://cdn.jsdelivr.net/webjars/org.webjars.bower/vega/2.6.3/vega.min.js&quot; charset=&quot;utf-8&quot;&gt;&lt;/script&gt;\n",
       "&lt;script src=&quot;https://cdn.jsdelivr.net/webjars/org.webjars.bower/vega-lite/1.2.0/vega-lite.min.js&quot; charset=&quot;utf-8&quot;&gt;&lt;/script&gt;\n",
       "&lt;script src=&quot;https://vega.github.io/vega-editor/vendor/vega-embed.js&quot; charset=&quot;utf-8&quot;&gt;&lt;/script&gt;\n",
       "  &lt;/head&gt;\n",
       "  &lt;body&gt;\n",
       " &lt;script&gt;\n",
       "   var embedSpec = {\n",
       "     mode: &quot;vega-lite&quot;,\n",
       "     spec: {\n",
       "  &quot;mark&quot; : &quot;circle&quot;,\n",
       "  &quot;encoding&quot; : {\n",
       "    &quot;x&quot; : {\n",
       "      &quot;field&quot; : &quot;Miles_per_Gallon&quot;,\n",
       "      &quot;type&quot; : &quot;quantitative&quot;\n",
       "    },\n",
       "    &quot;y&quot; : {\n",
       "      &quot;field&quot; : &quot;Horsepower&quot;,\n",
       "      &quot;type&quot; : &quot;quantitative&quot;\n",
       "    },\n",
       "    &quot;size&quot; : {\n",
       "      &quot;value&quot; : 201.0\n",
       "    }\n",
       "  },\n",
       "  &quot;description&quot; : &quot;Plot with hard-coded size value&quot;,\n",
       "  &quot;data&quot; : {\n",
       "    &quot;url&quot; : &quot;https://vega.github.io/vega-editor/app/data/cars.json&quot;\n",
       "  }\n",
       "}\n",
       "   }\n",
       "   vg.embed(&quot;#vegas-5e095fbf-9f83-4de2-b43f-64619e70264f&quot;, embedSpec, function(error, result) {});\n",
       " &lt;/script&gt;\n",
       " &lt;div id='vegas-5e095fbf-9f83-4de2-b43f-64619e70264f'&gt;&lt;/div&gt;\n",
       "    &lt;/body&gt;\n",
       "&lt;/html&gt;\"></iframe>\n",
       "  <script>\n",
       "    if (typeof resizeIFrame != 'function') {\n",
       "      function resizeIFrame(el, k) {\n",
       "        $(el.contentWindow.document).ready(function() {\n",
       "          el.style.height = el.contentWindow.document.body.scrollHeight + 'px';\n",
       "        });\n",
       "        if (k <= 10) { setTimeout(function() { resizeIFrame(el, k+1) }, 1000 + (k * 250)) };\n",
       "      }\n",
       "    }\n",
       "    $().ready( function() { resizeIFrame($('#frame-vegas-5e095fbf-9f83-4de2-b43f-64619e70264f').get(0), 1); });\n",
       "  </script>\n",
       "    "
      ]
     },
     "metadata": {},
     "output_type": "display_data"
    }
   ],
   "source": [
    "Vegas(\"Plot with hard-coded size value\").\n",
    "  withURL(Cars).\n",
    "  mark(Circle).\n",
    "  encodeY(\"Horsepower\", Quantitative).\n",
    "  encodeX(\"Miles_per_Gallon\", Quantitative).\n",
    "  encodeSize(value=201L).\n",
    "  show\n"
   ]
  },
  {
   "cell_type": "markdown",
   "metadata": {},
   "source": [
    "# Plots both mean and IQR as a background layer"
   ]
  },
  {
   "cell_type": "code",
   "execution_count": null,
   "metadata": {
    "collapsed": true
   },
   "outputs": [],
   "source": [
    "Vegas.layered(\"Plots both mean and IQR as a background layer\").\n",
    "  withURL(Population).\n",
    "  withLayers(\n",
    "    Layer().\n",
    "      mark(Line).\n",
    "      encodeX(\"age\", Ordinal).\n",
    "      encodeY(\"people\", aggregate=AggOps.Mean),\n",
    "    Layer().\n",
    "      mark(Area).\n",
    "      encodeX(\"age\", Ordinal).\n",
    "      encodeY(\"people\", aggregate=AggOps.Q1).\n",
    "      encodeY2(\"people\", aggregate=AggOps.Q3)\n",
    "  ).\n",
    "  show\n"
   ]
  },
  {
   "cell_type": "markdown",
   "metadata": {},
   "source": [
    "# Plot with legend on the left and a different title "
   ]
  },
  {
   "cell_type": "code",
   "execution_count": null,
   "metadata": {
    "collapsed": true
   },
   "outputs": [],
   "source": [
    "Vegas(\"Plot with legend on the left and a different title \").\n",
    "  withURL(Cars).\n",
    "  mark(Point).\n",
    "  encodeY(\"Horsepower\", Quantitative).\n",
    "  encodeX(\"Miles_per_Gallon\", Quantitative).\n",
    "  encodeColor(field=\"Origin\", dataType=Nominal, legend=Legend(orient = \"left\", title=\"Place of Origin\" )).\n",
    "  encodeShape(field=\"Origin\", dataType=Nominal, legend=Legend(orient = \"left\", title=\"Place of Origin\",\n",
    "    titleColor=\"red\")).\n",
    "  show\n"
   ]
  },
  {
   "cell_type": "markdown",
   "metadata": {},
   "source": [
    "# Plot to show Binning options"
   ]
  },
  {
   "cell_type": "code",
   "execution_count": null,
   "metadata": {
    "collapsed": true
   },
   "outputs": [],
   "source": [
    "Vegas(\"Plot to show Binning options\").\n",
    "  withURL(Movies).\n",
    "  mark(Bar).\n",
    "  encodeX(\"IMDB_Rating\", Quantitative, bin=Bin(step=2.0, maxbins=3.0)).\n",
    "  encodeY(field=\"*\", Quantitative, aggregate=AggOps.Count).\n",
    "  show\n"
   ]
  },
  {
   "cell_type": "markdown",
   "metadata": {},
   "source": [
    "# Plot to show Binning options"
   ]
  },
  {
   "cell_type": "code",
   "execution_count": null,
   "metadata": {
    "collapsed": true
   },
   "outputs": [],
   "source": [
    "Vegas(\"Plot to show Binning options\").\n",
    "  withURL(Movies).\n",
    "  mark(Bar).\n",
    "  encodeX(\"Worldwide_Gross\", Quant, bin=Bin(maxbins=20.0), sortOrder=SortOrder.Desc).\n",
    "  encodeY(field=\"*\", Quant, aggregate=AggOps.Count).\n",
    "  show\n"
   ]
  },
  {
   "cell_type": "markdown",
   "metadata": {},
   "source": [
    "# Plot to show usage of encodeText"
   ]
  },
  {
   "cell_type": "code",
   "execution_count": null,
   "metadata": {
    "collapsed": true
   },
   "outputs": [],
   "source": [
    "Vegas(\"Plot to show usage of encodeText\").\n",
    "  withURL(Cars).\n",
    "  addTransform(\"OriginInitial\", \"datum.Origin[0]\").\n",
    "  mark(Text).\n",
    "  encodeX(\"Horsepower\", Quantitative).\n",
    "  encodeY(\"Miles_per_Gallon\", Quantitative).\n",
    "  encodeColor(field=\"Origin\", dataType= Nominal).\n",
    "  encodeText(field=\"OriginInitial\", dataType= Nominal).\n",
    "  show\n"
   ]
  }
 ],
 "metadata": {
  "kernelspec": {
   "display_name": "Scala",
   "language": "scala",
   "name": "scala"
  },
  "language_info": {
   "codemirror_mode": "text/x-scala",
   "file_extension": ".scala",
   "mimetype": "text/x-scala",
   "name": "scala211",
   "nbconvert_exporter": "script",
   "pygments_lexer": "scala",
   "version": "2.11.11"
  }
 },
 "nbformat": 4,
 "nbformat_minor": 1
}
