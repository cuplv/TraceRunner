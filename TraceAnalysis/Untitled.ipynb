{
 "cells": [
  {
   "cell_type": "code",
   "execution_count": 2,
   "metadata": {},
   "outputs": [
    {
     "data": {
      "text/plain": [
       "defined \u001b[32mfunction\u001b[39m \u001b[36mswap\u001b[39m"
      ]
     },
     "execution_count": 2,
     "metadata": {},
     "output_type": "execute_result"
    }
   ],
   "source": [
    "def swap(a : List[Int], i : Int): List[Int] = {\n",
    "        if(i == 1){\n",
    "                val t1 = a.tail\n",
    "                t1.head :: a.head :: t1.tail\n",
    "        }else{\n",
    "                a.head :: swap(a.tail,i-1)\n",
    "        }\n",
    "}\n",
    "\n"
   ]
  },
  {
   "cell_type": "code",
   "execution_count": 6,
   "metadata": {},
   "outputs": [
    {
     "data": {
      "text/plain": [
       "\u001b[36mres5\u001b[39m: \u001b[32mSet\u001b[39m[\u001b[32mInt\u001b[39m] = \u001b[33mSet\u001b[39m(\u001b[32m1\u001b[39m, \u001b[32m2\u001b[39m, \u001b[32m3\u001b[39m, \u001b[32m4\u001b[39m)"
      ]
     },
     "execution_count": 6,
     "metadata": {},
     "output_type": "execute_result"
    }
   ],
   "source": [
    "Set(1,2).union(List(3,4).toSet)"
   ]
  },
  {
   "cell_type": "code",
   "execution_count": null,
   "metadata": {
    "collapsed": true
   },
   "outputs": [],
   "source": [
    "def countSwaps(size : Int, a : List[Int], k : Int, seen : Set[List[Int]]) = {\n",
    "    val swappedList = (1 to size-1).map(i => swap(a,i))\n",
    "    val subPatterns = swappedList.flatMap( swapped => {\n",
    "        if(!seen.contains(swapped)){\n",
    "            countSwaps(size,swapped, seen + swapped\n",
    "        }else{\n",
    "            Nil\n",
    "        }\n",
    "    })\n",
    "    seen.union(subPatterns) + a\n",
    "}"
   ]
  }
 ],
 "metadata": {
  "kernelspec": {
   "display_name": "Scala",
   "language": "scala",
   "name": "scala"
  },
  "language_info": {
   "codemirror_mode": "text/x-scala",
   "file_extension": ".scala",
   "mimetype": "text/x-scala",
   "name": "scala211",
   "nbconvert_exporter": "script",
   "pygments_lexer": "scala",
   "version": "2.11.11"
  }
 },
 "nbformat": 4,
 "nbformat_minor": 2
}
